{
 "cells": [
  {
   "cell_type": "markdown",
   "id": "2156ddee",
   "metadata": {},
   "source": [
    "# Ambertools-OpenMM Protein-ligand complex MD Setup tutorial using Jupyter Notebook\n",
    "This notebook is wrritten by quantaosun@gmail.com in Shanghai, China, 2021. This notebook took PDB ID 7L10, the protease of SARS-CoV-2 with an inhibitor, as an example, relative work was firstly published on ACS Cent. Sci. 2021, 7, 3, 467–475, by William L. Jorgensen, Yale University.\n",
    "\n",
    "Ambertools (https://ambermd.org/AmberTools.php) and Openmm (https://openmm.org/)should be properly refer to if any simulation result would be used in any publications."
   ]
  },
  {
   "cell_type": "code",
   "execution_count": null,
   "id": "85071ef7",
   "metadata": {},
   "outputs": [],
   "source": [
    "#install openmm\n",
    "!yes | conda install -c conda-forge openmm &> /dev/null\n",
    "# install openmm-setup for protein fix and simulation configuration\n",
    "!yes | conda install -c conda-forge openmm-setup \n",
    "#install open babel\n",
    "!yes|conda install -c openbabel openbabel &> /dev/null\n",
    "# install Amber tools\n",
    "!yes|conda install -c conda-forge ambertools=21 compilers \n",
    "#install visualization\n",
    "! pip install py3Dmol "
   ]
  },
  {
   "cell_type": "code",
   "execution_count": null,
   "id": "965bcdaf",
   "metadata": {},
   "outputs": [],
   "source": [
    "import sys\n",
    "sys.path.append('/home/sqt/anaconda3/envs/Amber/lib/python3.7/site-packages')"
   ]
  },
  {
   "cell_type": "markdown",
   "id": "4aa960a3",
   "metadata": {},
   "source": [
    "# Download your PDB"
   ]
  },
  {
   "cell_type": "code",
   "execution_count": null,
   "id": "cb8bf286",
   "metadata": {},
   "outputs": [],
   "source": [
    "PDB_ID = \"7L10\" #@param {type:\"string\"}\n",
    "pdb = PDB_ID + \".pdb\"\n",
    "! wget https://files.rcsb.org/download/$pdb"
   ]
  },
  {
   "cell_type": "markdown",
   "id": "744c6f2b",
   "metadata": {},
   "source": [
    "# Fix your protein with PDBfixer implemented in openmm-setup, please save the final strcture as \"output.pdb\" !!!"
   ]
  },
  {
   "cell_type": "code",
   "execution_count": null,
   "id": "458651e0",
   "metadata": {},
   "outputs": [],
   "source": [
    "!openmm-setup\n",
    "#Click the square pause button to force quit after finished."
   ]
  },
  {
   "cell_type": "markdown",
   "id": "6eea0905",
   "metadata": {},
   "source": [
    "# Go to H++, register and process the output.pdb structure, download top and crd. If you leave everything default, you don't need to change anything below.http://biophysics.cs.vt.edu/index.php"
   ]
  },
  {
   "cell_type": "markdown",
   "id": "6f115124",
   "metadata": {},
   "source": [
    "# It is assumed you have save the processed pdb with a name of \"output.pdb\", otherwise please modifiy commands below."
   ]
  },
  {
   "cell_type": "markdown",
   "id": "2cc109fd",
   "metadata": {},
   "source": [
    "# Generate protein pdb"
   ]
  },
  {
   "cell_type": "code",
   "execution_count": null,
   "id": "7dd3d96a",
   "metadata": {},
   "outputs": [],
   "source": [
    "!ambpdb -p 0.15_80_10_pH6.5_output.top -c 0.15_80_10_pH6.5_output.crd > 0.pdb"
   ]
  },
  {
   "cell_type": "code",
   "execution_count": null,
   "id": "f3367d14",
   "metadata": {},
   "outputs": [],
   "source": [
    "!awk '$4==\"XEY\"' 7L10.pdb > ligand1.pdb "
   ]
  },
  {
   "cell_type": "markdown",
   "id": "38cd9803",
   "metadata": {},
   "source": [
    "# Add hydrogens to you ligand"
   ]
  },
  {
   "cell_type": "code",
   "execution_count": null,
   "id": "bdeeef5e",
   "metadata": {},
   "outputs": [],
   "source": [
    "!obabel -ipdb ligand1.pdb -opdb -O ligand2.pdb -h"
   ]
  },
  {
   "cell_type": "markdown",
   "id": "b2b10aa2",
   "metadata": {},
   "source": [
    "# Beautify pdb format"
   ]
  },
  {
   "cell_type": "code",
   "execution_count": null,
   "id": "30f01d70",
   "metadata": {},
   "outputs": [],
   "source": [
    "!pdb4amber -i ligand2.pdb -o ligand3.pdb"
   ]
  },
  {
   "cell_type": "markdown",
   "id": "255837f3",
   "metadata": {},
   "source": [
    "# Generate ligand mol2 file"
   ]
  },
  {
   "cell_type": "code",
   "execution_count": null,
   "id": "b7ec9c9a",
   "metadata": {},
   "outputs": [],
   "source": [
    "!antechamber -fi pdb -i ligand3.pdb -fo mol2 -o ligand4.mol2 -c bcc -pf y"
   ]
  },
  {
   "cell_type": "markdown",
   "id": "eb8e40ff",
   "metadata": {},
   "source": [
    "# Make sure you see \"calculation completed\", otherwise something may have been wrong"
   ]
  },
  {
   "cell_type": "code",
   "execution_count": null,
   "id": "c2564b16",
   "metadata": {},
   "outputs": [],
   "source": [
    "!tail  sqm.out"
   ]
  },
  {
   "cell_type": "markdown",
   "id": "f9e71278",
   "metadata": {},
   "source": [
    "# Generate ligand prepi file"
   ]
  },
  {
   "cell_type": "code",
   "execution_count": null,
   "id": "6d0107dc",
   "metadata": {},
   "outputs": [],
   "source": [
    "!antechamber -i ligand4.mol2 -fi mol2 -o ligand5.prepi -fo prepi -pf y"
   ]
  },
  {
   "cell_type": "markdown",
   "id": "22bd5bf8",
   "metadata": {},
   "source": [
    "# Generate ligand frcmod file"
   ]
  },
  {
   "cell_type": "code",
   "execution_count": null,
   "id": "8805b93b",
   "metadata": {},
   "outputs": [],
   "source": [
    "!parmchk2 -f prepi -i ligand5.prepi -o ligand6.frcmod"
   ]
  },
  {
   "cell_type": "markdown",
   "id": "20aa5c15",
   "metadata": {},
   "source": [
    "# Combine protein with ligand again"
   ]
  },
  {
   "cell_type": "code",
   "execution_count": null,
   "id": "31d546e1",
   "metadata": {},
   "outputs": [],
   "source": [
    "!cat 0.pdb ligand3.pdb > complex.pdb"
   ]
  },
  {
   "cell_type": "markdown",
   "id": "c0beb0f9",
   "metadata": {},
   "source": [
    "# (Not working properly for now) Beautify PDB format, but we might just not need this anyway, skip for now."
   ]
  },
  {
   "cell_type": "code",
   "execution_count": null,
   "id": "d8cd3645",
   "metadata": {},
   "outputs": [],
   "source": [
    "!pdb4amber -i complex.pdb -o complex_clean.pdb"
   ]
  },
  {
   "cell_type": "markdown",
   "id": "0be7464f",
   "metadata": {},
   "source": [
    "# Create and run a file called tleap.in with Ambertools"
   ]
  },
  {
   "cell_type": "code",
   "execution_count": null,
   "id": "04e397f5",
   "metadata": {},
   "outputs": [],
   "source": [
    "com_file = open('tleap.in','w')\n",
    "com_file.write('''\n",
    "source leaprc.protein.ff14SB #Source leaprc file for ff14SB protein force field\n",
    "source leaprc.gaff #Source leaprc file for gaff\n",
    "source leaprc.water.tip3p #Source leaprc file for TIP3P water model\n",
    "loadamberprep ligand5.prepi #Load the prepi file for the ligand\n",
    "loadamberparams ligand6.frcmod #Load the additional frcmod file for ligand\n",
    "mol = loadpdb complex.pdb #Load PDB file for protein-ligand complex\n",
    "solvatebox mol TIP3PBOX 8 #Solvate the complex with a cubic water box\n",
    "addions mol Cl- 0 #Add Cl- ions to neutralize the system\n",
    "saveamberparm mol complex.prmtop complex.inpcrd #Save AMBER topology and coordinate files\n",
    "quit #Quit tleap program\n",
    "''')\n",
    "com_file.close()\n",
    "!tleap -s -f tleap.in > tleap.out"
   ]
  },
  {
   "cell_type": "markdown",
   "id": "38a0922f",
   "metadata": {},
   "source": [
    "# Upload prmtop and inpcrd to openmm-setup, and start the simulation! If you have a proper GPU, select CUDA, otherwise select CPU."
   ]
  },
  {
   "cell_type": "code",
   "execution_count": null,
   "id": "4fe6496a",
   "metadata": {},
   "outputs": [],
   "source": [
    "!openmm-setup\n",
    "#Click the square pause button to force quit after finished."
   ]
  },
  {
   "cell_type": "markdown",
   "id": "61e7f2e4",
   "metadata": {},
   "source": [
    "# Alternatively, you could save the simulation input files and run it on a cloud or HPC based OpenMM."
   ]
  },
  {
   "cell_type": "markdown",
   "id": "90eef1c1",
   "metadata": {},
   "source": [
    "# If all goes well, you should see something like below (CPU only)."
   ]
  },
  {
   "cell_type": "code",
   "execution_count": null,
   "id": "21473154",
   "metadata": {},
   "outputs": [],
   "source": [
    "Building system...\n",
    "Performing energy minimization...\n",
    "Equilibrating...\n",
    "Simulating...\n",
    "#\"Progress (%)\"\t\"Step\"\t\"Potential Energy (kJ/mole)\"\t\"Temperature (K)\"\t\"Speed (ns/day)\"\n",
    "0.1%\t1000\t-488259.139341292\t298.57624202824957\t0\n",
    "0.2%\t2000\t-492082.04384769656\t300.09275305741824\t16.6\n",
    "0.3%\t3000\t-494725.1462343714\t302.3090730320394\t16.6\n",
    "0.4%\t4000\t-496075.06792005355\t302.3939891905172\t16.4\n",
    "0.5%\t5000\t-498015.23323377833\t300.135566206444\t16.4\n",
    "0.6%\t6000\t-498488.50188332796\t298.5545999644654\t16.3\n",
    "0.7%\t7000\t-499572.9765659773\t300.7757759109986\t16.3\n",
    "0.8%\t8000\t-499030.79245316726\t297.2492234858693\t16.2\n",
    "0.9%\t9000\t-499823.2656625096\t300.60293949805\t16.2\n",
    "1.0%\t10000\t-500134.98822511156\t297.5748675220697\t16.2\n",
    "1.1%\t11000\t-499849.7045947542\t300.5532217535929\t16.2\n",
    "1.2%\t12000\t-500542.2799043103\t299.2530600741315\t16.2"
   ]
  }
 ],
 "metadata": {
  "kernelspec": {
   "display_name": "Python 3",
   "language": "python",
   "name": "python3"
  },
  "language_info": {
   "codemirror_mode": {
    "name": "ipython",
    "version": 3
   },
   "file_extension": ".py",
   "mimetype": "text/x-python",
   "name": "python",
   "nbconvert_exporter": "python",
   "pygments_lexer": "ipython3",
   "version": "3.8.8"
  }
 },
 "nbformat": 4,
 "nbformat_minor": 5
}
