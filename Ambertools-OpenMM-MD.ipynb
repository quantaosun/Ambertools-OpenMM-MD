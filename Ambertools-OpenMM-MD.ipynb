{
 "cells": [
  {
   "cell_type": "markdown",
   "id": "2156ddee",
   "metadata": {},
   "source": [
    "# NAMD Protein-ligand complex MD Setup tutorial using Jupyter Notebook\n",
    "This notebook is wrritten by quantaosun@gmail.com in Shanghai, China, 2021. This notebook took PDB ID 7L10, the protease of SARS-CoV-2 with an inhibitor, as an example, relative work was firstly published on ACS Cent. Sci. 2021, 7, 3, 467–475, by William L. Jorgensen, Yale University.\n",
    "\n",
    "Ambertools (https://ambermd.org/AmberTools.php) and Openmm (https://openmm.org/)should be properly refer to if any simulation result would be used in any publications."
   ]
  },
  {
   "cell_type": "code",
   "execution_count": 30,
   "id": "85071ef7",
   "metadata": {},
   "outputs": [
    {
     "name": "stdout",
     "output_type": "stream",
     "text": [
      "yes: standard output: Broken pipe\n",
      "Collecting package metadata (current_repodata.json): done\n",
      "Solving environment: done\n",
      "\n",
      "\n",
      "==> WARNING: A newer version of conda exists. <==\n",
      "  current version: 4.10.3\n",
      "  latest version: 4.11.0\n",
      "\n",
      "Please update conda by running\n",
      "\n",
      "    $ conda update -n base conda\n",
      "\n",
      "\n",
      "\n",
      "# All requested packages already installed.\n",
      "\n",
      "yes: standard output: Broken pipe\n",
      "yes: standard output: Broken pipe\n",
      "Collecting package metadata (current_repodata.json): done\n",
      "Solving environment: done\n",
      "\n",
      "\n",
      "==> WARNING: A newer version of conda exists. <==\n",
      "  current version: 4.10.3\n",
      "  latest version: 4.11.0\n",
      "\n",
      "Please update conda by running\n",
      "\n",
      "    $ conda update -n base conda\n",
      "\n",
      "\n",
      "\n",
      "## Package Plan ##\n",
      "\n",
      "  environment location: /home/q/anaconda3/envs/Amber\n",
      "\n",
      "  added / updated specs:\n",
      "    - ambertools=21\n",
      "    - compilers\n",
      "\n",
      "\n",
      "The following packages will be SUPERSEDED by a higher-priority channel:\n",
      "\n",
      "  ca-certificates    pkgs/main::ca-certificates-2021.10.26~ --> conda-forge::ca-certificates-2021.10.8-ha878542_0\n",
      "\n",
      "\n",
      "Proceed ([y]/n)? \n",
      "Preparing transaction: done\n",
      "Verifying transaction: done\n",
      "Executing transaction: done\n",
      "yes: standard output: Broken pipe\n",
      "Requirement already satisfied: py3Dmol in /home/q/anaconda3/envs/Amber/lib/python3.7/site-packages (1.7.0)\n"
     ]
    }
   ],
   "source": [
    "#install openmm\n",
    "!yes | conda install -c conda-forge openmm &> /dev/null\n",
    "# install openmm-setup for protein fix and simulation configuration\n",
    "!yes | conda install -c conda-forge openmm-setup \n",
    "#install open babel\n",
    "!yes|conda install -c openbabel openbabel &> /dev/null\n",
    "# install Amber tools\n",
    "!yes|conda install -c conda-forge ambertools=21 compilers \n",
    "#install visualization\n",
    "! pip install py3Dmol "
   ]
  },
  {
   "cell_type": "code",
   "execution_count": 31,
   "id": "965bcdaf",
   "metadata": {},
   "outputs": [],
   "source": [
    "import sys\n",
    "sys.path.append('/home/sqt/anaconda3/envs/Amber/lib/python3.7/site-packages')"
   ]
  },
  {
   "cell_type": "markdown",
   "id": "4aa960a3",
   "metadata": {},
   "source": [
    "# Download your PDB"
   ]
  },
  {
   "cell_type": "code",
   "execution_count": 16,
   "id": "cb8bf286",
   "metadata": {},
   "outputs": [
    {
     "name": "stdout",
     "output_type": "stream",
     "text": [
      "--2021-12-02 20:23:52--  https://files.rcsb.org/download/7L10.pdb\n",
      "Resolving files.rcsb.org (files.rcsb.org)... 132.249.210.134\n",
      "Connecting to files.rcsb.org (files.rcsb.org)|132.249.210.134|:443... connected.\n",
      "HTTP request sent, awaiting response... 200 OK\n",
      "Length: unspecified [application/octet-stream]\n",
      "Saving to: ‘7L10.pdb.1’\n",
      "\n",
      "7L10.pdb.1              [          <=>       ] 241.42K  13.5KB/s    in 17s     \n",
      "\n",
      "2021-12-02 20:24:12 (14.2 KB/s) - ‘7L10.pdb.1’ saved [247212]\n",
      "\n"
     ]
    }
   ],
   "source": [
    "PDB_ID = \"7L10\" #@param {type:\"string\"}\n",
    "pdb = PDB_ID + \".pdb\"\n",
    "! wget https://files.rcsb.org/download/$pdb"
   ]
  },
  {
   "cell_type": "markdown",
   "id": "744c6f2b",
   "metadata": {},
   "source": [
    "# Fix your protein with PDBfixer implemented in openmm-setup, please save the final strcture as \"output.pdb\" !!!"
   ]
  },
  {
   "cell_type": "code",
   "execution_count": 12,
   "id": "458651e0",
   "metadata": {},
   "outputs": [
    {
     "name": "stdout",
     "output_type": "stream",
     "text": [
      " * Serving Flask app 'openmmsetup.openmmsetup' (lazy loading)\n",
      " * Environment: production\n",
      "\u001b[31m   WARNING: This is a development server. Do not use it in a production deployment.\u001b[0m\n",
      "\u001b[2m   Use a production WSGI server instead.\u001b[0m\n",
      " * Debug mode: off\n",
      " * Running on http://127.0.0.1:5000/ (Press CTRL+C to quit)\n",
      "127.0.0.1 - - [02/Dec/2021 19:02:54] \"GET / HTTP/1.1\" 200 -\n",
      "127.0.0.1 - - [02/Dec/2021 19:02:55] \"GET /static/Icon.svg HTTP/1.1\" 200 -\n",
      "127.0.0.1 - - [02/Dec/2021 19:02:55] \"\u001b[33mGET /favicon.ico HTTP/1.1\u001b[0m\" 404 -\n",
      "127.0.0.1 - - [02/Dec/2021 19:03:08] \"GET /selectFiles?type=pdb HTTP/1.1\" 200 -\n",
      "127.0.0.1 - - [02/Dec/2021 19:03:08] \"\u001b[36mGET /static/Icon.svg HTTP/1.1\u001b[0m\" 304 -\n",
      "127.0.0.1 - - [02/Dec/2021 19:03:28] \"POST /configureFiles HTTP/1.1\" 200 -\n",
      "127.0.0.1 - - [02/Dec/2021 19:03:28] \"GET /static/ngl.js HTTP/1.1\" 200 -\n",
      "127.0.0.1 - - [02/Dec/2021 19:03:28] \"\u001b[36mGET /static/Icon.svg HTTP/1.1\u001b[0m\" 304 -\n",
      "127.0.0.1 - - [02/Dec/2021 19:03:28] \"GET /getCurrentStructure HTTP/1.1\" 200 -\n",
      "127.0.0.1 - - [02/Dec/2021 19:03:37] \"POST /selectChains HTTP/1.1\" 200 -\n",
      "127.0.0.1 - - [02/Dec/2021 19:03:37] \"\u001b[36mGET /static/Icon.svg HTTP/1.1\u001b[0m\" 304 -\n",
      "127.0.0.1 - - [02/Dec/2021 19:03:39] \"POST /addResidues HTTP/1.1\" 200 -\n",
      "127.0.0.1 - - [02/Dec/2021 19:03:40] \"\u001b[36mGET /static/Icon.svg HTTP/1.1\u001b[0m\" 304 -\n",
      "127.0.0.1 - - [02/Dec/2021 19:03:46] \"POST /selectChains HTTP/1.1\" 200 -\n",
      "127.0.0.1 - - [02/Dec/2021 19:03:46] \"\u001b[36mGET /static/Icon.svg HTTP/1.1\u001b[0m\" 304 -\n",
      "127.0.0.1 - - [02/Dec/2021 19:03:55] \"POST /addResidues HTTP/1.1\" 200 -\n",
      "127.0.0.1 - - [02/Dec/2021 19:03:55] \"\u001b[36mGET /static/Icon.svg HTTP/1.1\u001b[0m\" 304 -\n",
      "127.0.0.1 - - [02/Dec/2021 19:04:01] \"POST /addHeavyAtoms HTTP/1.1\" 200 -\n",
      "127.0.0.1 - - [02/Dec/2021 19:04:01] \"\u001b[36mGET /static/Icon.svg HTTP/1.1\u001b[0m\" 304 -\n",
      "127.0.0.1 - - [02/Dec/2021 19:04:08] \"POST /addHydrogens HTTP/1.1\" 200 -\n",
      "127.0.0.1 - - [02/Dec/2021 19:04:08] \"\u001b[36mGET /static/Icon.svg HTTP/1.1\u001b[0m\" 304 -\n",
      "127.0.0.1 - - [02/Dec/2021 19:04:08] \"POST /setSimulationOptions HTTP/1.1\" 200 -\n",
      "127.0.0.1 - - [02/Dec/2021 19:04:12] \"GET /downloadPDB HTTP/1.1\" 200 -\n",
      "^C\n"
     ]
    }
   ],
   "source": [
    "!openmm-setup\n",
    "#Click the square pause button to force quit after finished."
   ]
  },
  {
   "cell_type": "markdown",
   "id": "6eea0905",
   "metadata": {},
   "source": [
    "# Go to H++, register and process the output.pdb structure, download top and crd. If you leave everything default, you don't need to change anything below.http://biophysics.cs.vt.edu/index.php"
   ]
  },
  {
   "cell_type": "markdown",
   "id": "6f115124",
   "metadata": {},
   "source": [
    "# It is assumed you have save the processed pdb with a name of \"output.pdb\", otherwise please modifiy commands below."
   ]
  },
  {
   "cell_type": "markdown",
   "id": "2cc109fd",
   "metadata": {},
   "source": [
    "# Generate protein pdb"
   ]
  },
  {
   "cell_type": "code",
   "execution_count": 17,
   "id": "7dd3d96a",
   "metadata": {},
   "outputs": [],
   "source": [
    "!ambpdb -p 0.15_80_10_pH6.5_output.top -c 0.15_80_10_pH6.5_output.crd > 0.pdb"
   ]
  },
  {
   "cell_type": "code",
   "execution_count": 18,
   "id": "f3367d14",
   "metadata": {},
   "outputs": [],
   "source": [
    "!awk '$4==\"XEY\"' 7L10.pdb > ligand1.pdb "
   ]
  },
  {
   "cell_type": "markdown",
   "id": "38cd9803",
   "metadata": {},
   "source": [
    "# Add hydrogens to you ligand"
   ]
  },
  {
   "cell_type": "code",
   "execution_count": 19,
   "id": "bdeeef5e",
   "metadata": {},
   "outputs": [
    {
     "name": "stdout",
     "output_type": "stream",
     "text": [
      "1 molecule converted\r\n"
     ]
    }
   ],
   "source": [
    "!obabel -ipdb ligand1.pdb -opdb -O ligand2.pdb -h"
   ]
  },
  {
   "cell_type": "markdown",
   "id": "b2b10aa2",
   "metadata": {},
   "source": [
    "# Beautify pdb format"
   ]
  },
  {
   "cell_type": "code",
   "execution_count": 20,
   "id": "30f01d70",
   "metadata": {},
   "outputs": [
    {
     "name": "stdout",
     "output_type": "stream",
     "text": [
      "\r\n",
      "==================================================\r\n",
      "Summary of pdb4amber for: ligand2.pdb\r\n",
      "===================================================\r\n",
      "\r\n",
      "----------Chains\r\n",
      "The following (original) chains have been found:\r\n",
      "A\r\n",
      "\r\n",
      "---------- Alternate Locations (Original Residues!))\r\n",
      "\r\n",
      "The following residues had alternate locations:\r\n",
      "None\r\n",
      "-----------Non-standard-resnames\r\n",
      "XEY\r\n",
      "\r\n",
      "---------- Mising heavy atom(s)\r\n",
      "\r\n",
      "None\r\n"
     ]
    }
   ],
   "source": [
    "!pdb4amber -i ligand2.pdb -o ligand3.pdb"
   ]
  },
  {
   "cell_type": "markdown",
   "id": "255837f3",
   "metadata": {},
   "source": [
    "# Generate ligand mol2 file"
   ]
  },
  {
   "cell_type": "code",
   "execution_count": 21,
   "id": "b7ec9c9a",
   "metadata": {},
   "outputs": [
    {
     "name": "stdout",
     "output_type": "stream",
     "text": [
      "\n",
      "Welcome to antechamber 21.0: molecular input file processor.\n",
      "\n",
      "acdoctor mode is on: check and diagnose problems in the input file.\n",
      "The atom type is set to gaff; the options available to the -at flag are\n",
      "    gaff, gaff2, amber, bcc, and sybyl.\n",
      "-- Check Format for pdb File --\n",
      "   Status: pass\n",
      "-- Check Unusual Elements --\n",
      "   Status: pass\n",
      "-- Check Open Valences --\n",
      "   Status: pass\n",
      "-- Check Geometry --\n",
      "      for those bonded   \n",
      "      for those not bonded   \n",
      "   Status: pass\n",
      "-- Check Weird Bonds --\n",
      "   Status: pass\n",
      "-- Check Number of Units --\n",
      "   Status: pass\n",
      "acdoctor mode has completed checking the input file.\n",
      "\n",
      "/bin/bash: /home/q/anaconda3/envs/Amber/lib/libtinfo.so.6: no version information available (required by /bin/bash)\n",
      "/bin/bash: /home/q/anaconda3/envs/Amber/lib/libtinfo.so.6: no version information available (required by /bin/bash)\n",
      "Info: Total number of electrons: 214; net charge: 0\n",
      "\n",
      "Running: /home/q/anaconda3/envs/Amber/bin/sqm -O -i sqm.in -o sqm.out\n",
      "/bin/bash: /home/q/anaconda3/envs/Amber/lib/libtinfo.so.6: no version information available (required by /bin/bash)\n",
      "/bin/bash: /home/q/anaconda3/envs/Amber/lib/libtinfo.so.6: no version information available (required by /bin/bash)\n",
      "\n"
     ]
    }
   ],
   "source": [
    "!antechamber -fi pdb -i ligand3.pdb -fo mol2 -o ligand4.mol2 -c bcc -pf y"
   ]
  },
  {
   "cell_type": "markdown",
   "id": "eb8e40ff",
   "metadata": {},
   "source": [
    "# Make sure you see \"calculation completed\", otherwise something may have been wrong"
   ]
  },
  {
   "cell_type": "code",
   "execution_count": 24,
   "id": "c2564b16",
   "metadata": {},
   "outputs": [
    {
     "name": "stdout",
     "output_type": "stream",
     "text": [
      "  QMMM:    36       36      H        6.5586   -1.5201   19.1778\r\n",
      "  QMMM:    37       37      H       11.5122    5.3225   20.3572\r\n",
      "  QMMM:    38       38      H       13.0977    5.3892   22.2814\r\n",
      "  QMMM:    39       39      H       13.1130    3.5286   23.9487\r\n",
      "  QMMM:    40       40      H       11.5593    1.6013   23.6837\r\n",
      "  QMMM:    41       41      H        5.4003   -1.8655   27.1377\r\n",
      "  QMMM:    42       42      H       10.1644    0.8405   19.6508\r\n",
      "\r\n",
      "           --------- Calculation Completed ----------\r\n",
      "\r\n"
     ]
    }
   ],
   "source": [
    "!tail  sqm.out"
   ]
  },
  {
   "cell_type": "markdown",
   "id": "f9e71278",
   "metadata": {},
   "source": [
    "# Generate ligand prepi file"
   ]
  },
  {
   "cell_type": "code",
   "execution_count": 25,
   "id": "6d0107dc",
   "metadata": {},
   "outputs": [
    {
     "name": "stdout",
     "output_type": "stream",
     "text": [
      "\r\n",
      "Welcome to antechamber 21.0: molecular input file processor.\r\n",
      "\r\n",
      "acdoctor mode is on: check and diagnose problems in the input file.\r\n",
      "The atom type is set to gaff; the options available to the -at flag are\r\n",
      "    gaff, gaff2, amber, bcc, and sybyl.\r\n",
      "-- Check Format for mol2 File --\r\n",
      "   Status: pass\r\n",
      "-- Check Unusual Elements --\r\n",
      "   Status: pass\r\n",
      "-- Check Open Valences --\r\n",
      "   Status: pass\r\n",
      "-- Check Geometry --\r\n",
      "      for those bonded   \r\n",
      "      for those not bonded   \r\n",
      "   Status: pass\r\n",
      "-- Check Weird Bonds --\r\n",
      "   Status: pass\r\n",
      "-- Check Number of Units --\r\n",
      "   Status: pass\r\n",
      "acdoctor mode has completed checking the input file.\r\n",
      "\r\n",
      "/bin/bash: /home/q/anaconda3/envs/Amber/lib/libtinfo.so.6: no version information available (required by /bin/bash)\r\n",
      "/bin/bash: /home/q/anaconda3/envs/Amber/lib/libtinfo.so.6: no version information available (required by /bin/bash)\r\n",
      "/bin/bash: /home/q/anaconda3/envs/Amber/lib/libtinfo.so.6: no version information available (required by /bin/bash)\r\n",
      "\r\n"
     ]
    }
   ],
   "source": [
    "!antechamber -i ligand4.mol2 -fi mol2 -o ligand5.prepi -fo prepi -pf y"
   ]
  },
  {
   "cell_type": "markdown",
   "id": "22bd5bf8",
   "metadata": {},
   "source": [
    "# Generate ligand frcmod file"
   ]
  },
  {
   "cell_type": "code",
   "execution_count": 26,
   "id": "8805b93b",
   "metadata": {},
   "outputs": [],
   "source": [
    "!parmchk2 -f prepi -i ligand5.prepi -o ligand6.frcmod"
   ]
  },
  {
   "cell_type": "markdown",
   "id": "20aa5c15",
   "metadata": {},
   "source": [
    "# Combine protein with ligand again"
   ]
  },
  {
   "cell_type": "code",
   "execution_count": 27,
   "id": "31d546e1",
   "metadata": {},
   "outputs": [],
   "source": [
    "!cat 0.pdb ligand3.pdb > complex.pdb"
   ]
  },
  {
   "cell_type": "markdown",
   "id": "c0beb0f9",
   "metadata": {},
   "source": [
    "# (Not working properly for now) Beautify PDB format, but we might just not need this anyway, skip for now."
   ]
  },
  {
   "cell_type": "code",
   "execution_count": 28,
   "id": "d8cd3645",
   "metadata": {},
   "outputs": [
    {
     "name": "stdout",
     "output_type": "stream",
     "text": [
      "\n",
      "==================================================\n",
      "Summary of pdb4amber for: complex.pdb\n",
      "===================================================\n",
      "Traceback (most recent call last):\n",
      "  File \"/home/q/anaconda3/envs/Amber/bin/pdb4amber\", line 33, in <module>\n",
      "    sys.exit(load_entry_point('pdb4amber==20.1', 'console_scripts', 'pdb4amber')())\n",
      "  File \"/home/q/anaconda3/envs/Amber/lib/python3.7/site-packages/pdb4amber/pdb4amber.py\", line 835, in main\n",
      "    arg_noter=opt.noter)\n",
      "  File \"/home/q/anaconda3/envs/Amber/lib/python3.7/site-packages/pdb4amber/pdb4amber.py\", line 520, in run\n",
      "    pdbfixer._write_renum(base_filename)\n",
      "  File \"/home/q/anaconda3/envs/Amber/lib/python3.7/site-packages/pdb4amber/pdb4amber.py\", line 390, in _write_renum\n",
      "    residue.idx + 1))\n",
      "TypeError: %c requires int or char\n"
     ]
    }
   ],
   "source": [
    "!pdb4amber -i complex.pdb -o complex_clean.pdb"
   ]
  },
  {
   "cell_type": "markdown",
   "id": "0be7464f",
   "metadata": {},
   "source": [
    "# Create and run a file called tleap.in with Ambertools"
   ]
  },
  {
   "cell_type": "code",
   "execution_count": 29,
   "id": "04e397f5",
   "metadata": {},
   "outputs": [],
   "source": [
    "com_file = open('tleap.in','w')\n",
    "com_file.write('''\n",
    "source leaprc.protein.ff14SB #Source leaprc file for ff14SB protein force field\n",
    "source leaprc.gaff #Source leaprc file for gaff\n",
    "source leaprc.water.tip3p #Source leaprc file for TIP3P water model\n",
    "loadamberprep ligand5.prepi #Load the prepi file for the ligand\n",
    "loadamberparams ligand6.frcmod #Load the additional frcmod file for ligand\n",
    "mol = loadpdb complex.pdb #Load PDB file for protein-ligand complex\n",
    "solvatebox mol TIP3PBOX 8 #Solvate the complex with a cubic water box\n",
    "addions mol Cl- 0 #Add Cl- ions to neutralize the system\n",
    "saveamberparm mol complex.prmtop complex.inpcrd #Save AMBER topology and coordinate files\n",
    "quit #Quit tleap program\n",
    "''')\n",
    "com_file.close()\n",
    "!tleap -s -f tleap.in > tleap.out"
   ]
  },
  {
   "cell_type": "markdown",
   "id": "38a0922f",
   "metadata": {},
   "source": [
    "# Upload prmtop and inpcrd to openmm-setup, and start the simulation! If you have a proper GPU, select CUDA, otherwise select CPU."
   ]
  },
  {
   "cell_type": "code",
   "execution_count": null,
   "id": "4fe6496a",
   "metadata": {},
   "outputs": [
    {
     "name": "stdout",
     "output_type": "stream",
     "text": [
      " * Serving Flask app 'openmmsetup.openmmsetup' (lazy loading)\n",
      " * Environment: production\n",
      "\u001b[31m   WARNING: This is a development server. Do not use it in a production deployment.\u001b[0m\n",
      "\u001b[2m   Use a production WSGI server instead.\u001b[0m\n",
      " * Debug mode: off\n",
      " * Running on http://127.0.0.1:5000/ (Press CTRL+C to quit)\n",
      "127.0.0.1 - - [02/Dec/2021 20:40:47] \"GET / HTTP/1.1\" 200 -\n",
      "127.0.0.1 - - [02/Dec/2021 20:40:47] \"\u001b[36mGET /static/Icon.svg HTTP/1.1\u001b[0m\" 304 -\n",
      "127.0.0.1 - - [02/Dec/2021 20:40:52] \"GET /selectFiles?type=amber HTTP/1.1\" 200 -\n",
      "127.0.0.1 - - [02/Dec/2021 20:40:52] \"\u001b[36mGET /static/Icon.svg HTTP/1.1\u001b[0m\" 304 -\n",
      "127.0.0.1 - - [02/Dec/2021 20:41:11] \"POST /configureFiles HTTP/1.1\" 200 -\n",
      "127.0.0.1 - - [02/Dec/2021 20:41:12] \"\u001b[36mGET /static/Icon.svg HTTP/1.1\u001b[0m\" 304 -\n",
      "127.0.0.1 - - [02/Dec/2021 20:41:12] \"POST /setSimulationOptions HTTP/1.1\" 200 -\n",
      "127.0.0.1 - - [02/Dec/2021 20:41:22] \"POST /setSimulationOptions HTTP/1.1\" 200 -\n",
      "127.0.0.1 - - [02/Dec/2021 20:41:41] \"GET /showRunSimulation HTTP/1.1\" 200 -\n",
      "127.0.0.1 - - [02/Dec/2021 20:41:41] \"\u001b[36mGET /static/Icon.svg HTTP/1.1\u001b[0m\" 304 -\n",
      "127.0.0.1 - - [02/Dec/2021 20:42:02] \"POST /startSimulation HTTP/1.1\" 200 -\n",
      "127.0.0.1 - - [02/Dec/2021 20:42:04] \"GET /getSimulationOutput HTTP/1.1\" 200 -\n",
      "127.0.0.1 - - [02/Dec/2021 20:42:06] \"GET /getSimulationOutput HTTP/1.1\" 200 -\n",
      "127.0.0.1 - - [02/Dec/2021 20:42:08] \"GET /getSimulationOutput HTTP/1.1\" 200 -\n",
      "127.0.0.1 - - [02/Dec/2021 20:42:10] \"GET /getSimulationOutput HTTP/1.1\" 200 -\n",
      "127.0.0.1 - - [02/Dec/2021 20:42:12] \"GET /getSimulationOutput HTTP/1.1\" 200 -\n",
      "127.0.0.1 - - [02/Dec/2021 20:42:14] \"GET /getSimulationOutput HTTP/1.1\" 200 -\n",
      "127.0.0.1 - - [02/Dec/2021 20:42:16] \"GET /getSimulationOutput HTTP/1.1\" 200 -\n",
      "127.0.0.1 - - [02/Dec/2021 20:42:18] \"GET /getSimulationOutput HTTP/1.1\" 200 -\n",
      "127.0.0.1 - - [02/Dec/2021 20:42:20] \"GET /getSimulationOutput HTTP/1.1\" 200 -\n",
      "127.0.0.1 - - [02/Dec/2021 20:42:22] \"GET /getSimulationOutput HTTP/1.1\" 200 -\n",
      "127.0.0.1 - - [02/Dec/2021 20:42:24] \"GET /getSimulationOutput HTTP/1.1\" 200 -\n",
      "127.0.0.1 - - [02/Dec/2021 20:42:26] \"GET /getSimulationOutput HTTP/1.1\" 200 -\n",
      "127.0.0.1 - - [02/Dec/2021 20:42:28] \"GET /getSimulationOutput HTTP/1.1\" 200 -\n",
      "127.0.0.1 - - [02/Dec/2021 20:42:30] \"GET /getSimulationOutput HTTP/1.1\" 200 -\n",
      "127.0.0.1 - - [02/Dec/2021 20:42:32] \"GET /getSimulationOutput HTTP/1.1\" 200 -\n",
      "127.0.0.1 - - [02/Dec/2021 20:42:34] \"GET /getSimulationOutput HTTP/1.1\" 200 -\n",
      "127.0.0.1 - - [02/Dec/2021 20:42:36] \"GET /getSimulationOutput HTTP/1.1\" 200 -\n",
      "127.0.0.1 - - [02/Dec/2021 20:42:38] \"GET /getSimulationOutput HTTP/1.1\" 200 -\n",
      "127.0.0.1 - - [02/Dec/2021 20:42:40] \"GET /getSimulationOutput HTTP/1.1\" 200 -\n",
      "127.0.0.1 - - [02/Dec/2021 20:42:42] \"GET /getSimulationOutput HTTP/1.1\" 200 -\n",
      "127.0.0.1 - - [02/Dec/2021 20:42:44] \"GET /getSimulationOutput HTTP/1.1\" 200 -\n",
      "127.0.0.1 - - [02/Dec/2021 20:42:46] \"GET /getSimulationOutput HTTP/1.1\" 200 -\n",
      "127.0.0.1 - - [02/Dec/2021 20:42:48] \"GET /getSimulationOutput HTTP/1.1\" 200 -\n",
      "127.0.0.1 - - [02/Dec/2021 20:42:50] \"GET /getSimulationOutput HTTP/1.1\" 200 -\n",
      "127.0.0.1 - - [02/Dec/2021 20:42:52] \"GET /getSimulationOutput HTTP/1.1\" 200 -\n",
      "127.0.0.1 - - [02/Dec/2021 20:42:54] \"GET /getSimulationOutput HTTP/1.1\" 200 -\n",
      "127.0.0.1 - - [02/Dec/2021 20:42:56] \"GET /getSimulationOutput HTTP/1.1\" 200 -\n",
      "127.0.0.1 - - [02/Dec/2021 20:42:58] \"GET /getSimulationOutput HTTP/1.1\" 200 -\n",
      "127.0.0.1 - - [02/Dec/2021 20:43:00] \"GET /getSimulationOutput HTTP/1.1\" 200 -\n",
      "127.0.0.1 - - [02/Dec/2021 20:43:02] \"GET /getSimulationOutput HTTP/1.1\" 200 -\n",
      "127.0.0.1 - - [02/Dec/2021 20:43:04] \"GET /getSimulationOutput HTTP/1.1\" 200 -\n",
      "127.0.0.1 - - [02/Dec/2021 20:43:06] \"GET /getSimulationOutput HTTP/1.1\" 200 -\n",
      "127.0.0.1 - - [02/Dec/2021 20:43:08] \"GET /getSimulationOutput HTTP/1.1\" 200 -\n",
      "127.0.0.1 - - [02/Dec/2021 20:43:10] \"GET /getSimulationOutput HTTP/1.1\" 200 -\n",
      "127.0.0.1 - - [02/Dec/2021 20:43:12] \"GET /getSimulationOutput HTTP/1.1\" 200 -\n",
      "127.0.0.1 - - [02/Dec/2021 20:43:14] \"GET /getSimulationOutput HTTP/1.1\" 200 -\n",
      "127.0.0.1 - - [02/Dec/2021 20:43:16] \"GET /getSimulationOutput HTTP/1.1\" 200 -\n",
      "127.0.0.1 - - [02/Dec/2021 20:43:18] \"GET /getSimulationOutput HTTP/1.1\" 200 -\n",
      "127.0.0.1 - - [02/Dec/2021 20:43:20] \"GET /getSimulationOutput HTTP/1.1\" 200 -\n",
      "127.0.0.1 - - [02/Dec/2021 20:43:22] \"GET /getSimulationOutput HTTP/1.1\" 200 -\n",
      "127.0.0.1 - - [02/Dec/2021 20:43:24] \"GET /getSimulationOutput HTTP/1.1\" 200 -\n",
      "127.0.0.1 - - [02/Dec/2021 20:43:26] \"GET /getSimulationOutput HTTP/1.1\" 200 -\n",
      "127.0.0.1 - - [02/Dec/2021 20:43:28] \"GET /getSimulationOutput HTTP/1.1\" 200 -\n",
      "127.0.0.1 - - [02/Dec/2021 20:43:30] \"GET /getSimulationOutput HTTP/1.1\" 200 -\n",
      "127.0.0.1 - - [02/Dec/2021 20:43:32] \"GET /getSimulationOutput HTTP/1.1\" 200 -\n",
      "127.0.0.1 - - [02/Dec/2021 20:43:34] \"GET /getSimulationOutput HTTP/1.1\" 200 -\n",
      "127.0.0.1 - - [02/Dec/2021 20:43:36] \"GET /getSimulationOutput HTTP/1.1\" 200 -\n",
      "127.0.0.1 - - [02/Dec/2021 20:43:38] \"GET /getSimulationOutput HTTP/1.1\" 200 -\n",
      "127.0.0.1 - - [02/Dec/2021 20:43:40] \"GET /getSimulationOutput HTTP/1.1\" 200 -\n",
      "127.0.0.1 - - [02/Dec/2021 20:43:42] \"GET /getSimulationOutput HTTP/1.1\" 200 -\n",
      "127.0.0.1 - - [02/Dec/2021 20:43:44] \"GET /getSimulationOutput HTTP/1.1\" 200 -\n",
      "127.0.0.1 - - [02/Dec/2021 20:43:46] \"GET /getSimulationOutput HTTP/1.1\" 200 -\n",
      "127.0.0.1 - - [02/Dec/2021 20:43:48] \"GET /getSimulationOutput HTTP/1.1\" 200 -\n",
      "127.0.0.1 - - [02/Dec/2021 20:43:50] \"GET /getSimulationOutput HTTP/1.1\" 200 -\n",
      "127.0.0.1 - - [02/Dec/2021 20:43:52] \"GET /getSimulationOutput HTTP/1.1\" 200 -\n",
      "127.0.0.1 - - [02/Dec/2021 20:43:54] \"GET /getSimulationOutput HTTP/1.1\" 200 -\n",
      "127.0.0.1 - - [02/Dec/2021 20:43:56] \"GET /getSimulationOutput HTTP/1.1\" 200 -\n",
      "127.0.0.1 - - [02/Dec/2021 20:43:58] \"GET /getSimulationOutput HTTP/1.1\" 200 -\n",
      "127.0.0.1 - - [02/Dec/2021 20:44:00] \"GET /getSimulationOutput HTTP/1.1\" 200 -\n",
      "127.0.0.1 - - [02/Dec/2021 20:44:02] \"GET /getSimulationOutput HTTP/1.1\" 200 -\n",
      "127.0.0.1 - - [02/Dec/2021 20:44:04] \"GET /getSimulationOutput HTTP/1.1\" 200 -\n",
      "127.0.0.1 - - [02/Dec/2021 20:44:06] \"GET /getSimulationOutput HTTP/1.1\" 200 -\n",
      "127.0.0.1 - - [02/Dec/2021 20:44:08] \"GET /getSimulationOutput HTTP/1.1\" 200 -\n",
      "127.0.0.1 - - [02/Dec/2021 20:44:10] \"GET /getSimulationOutput HTTP/1.1\" 200 -\n",
      "127.0.0.1 - - [02/Dec/2021 20:44:12] \"GET /getSimulationOutput HTTP/1.1\" 200 -\n",
      "127.0.0.1 - - [02/Dec/2021 20:44:14] \"GET /getSimulationOutput HTTP/1.1\" 200 -\n",
      "127.0.0.1 - - [02/Dec/2021 20:44:16] \"GET /getSimulationOutput HTTP/1.1\" 200 -\n",
      "127.0.0.1 - - [02/Dec/2021 20:44:18] \"GET /getSimulationOutput HTTP/1.1\" 200 -\n",
      "127.0.0.1 - - [02/Dec/2021 20:44:20] \"GET /getSimulationOutput HTTP/1.1\" 200 -\n",
      "127.0.0.1 - - [02/Dec/2021 20:44:22] \"GET /getSimulationOutput HTTP/1.1\" 200 -\n",
      "127.0.0.1 - - [02/Dec/2021 20:44:24] \"GET /getSimulationOutput HTTP/1.1\" 200 -\n",
      "127.0.0.1 - - [02/Dec/2021 20:44:26] \"GET /getSimulationOutput HTTP/1.1\" 200 -\n",
      "127.0.0.1 - - [02/Dec/2021 20:44:28] \"GET /getSimulationOutput HTTP/1.1\" 200 -\n",
      "127.0.0.1 - - [02/Dec/2021 20:44:30] \"GET /getSimulationOutput HTTP/1.1\" 200 -\n",
      "127.0.0.1 - - [02/Dec/2021 20:44:32] \"GET /getSimulationOutput HTTP/1.1\" 200 -\n",
      "127.0.0.1 - - [02/Dec/2021 20:44:34] \"GET /getSimulationOutput HTTP/1.1\" 200 -\n",
      "127.0.0.1 - - [02/Dec/2021 20:44:36] \"GET /getSimulationOutput HTTP/1.1\" 200 -\n",
      "127.0.0.1 - - [02/Dec/2021 20:44:38] \"GET /getSimulationOutput HTTP/1.1\" 200 -\n",
      "127.0.0.1 - - [02/Dec/2021 20:44:40] \"GET /getSimulationOutput HTTP/1.1\" 200 -\n",
      "127.0.0.1 - - [02/Dec/2021 20:44:42] \"GET /getSimulationOutput HTTP/1.1\" 200 -\n",
      "127.0.0.1 - - [02/Dec/2021 20:44:44] \"GET /getSimulationOutput HTTP/1.1\" 200 -\n",
      "127.0.0.1 - - [02/Dec/2021 20:44:46] \"GET /getSimulationOutput HTTP/1.1\" 200 -\n",
      "127.0.0.1 - - [02/Dec/2021 20:44:48] \"GET /getSimulationOutput HTTP/1.1\" 200 -\n",
      "127.0.0.1 - - [02/Dec/2021 20:44:50] \"GET /getSimulationOutput HTTP/1.1\" 200 -\n",
      "127.0.0.1 - - [02/Dec/2021 20:44:52] \"GET /getSimulationOutput HTTP/1.1\" 200 -\n",
      "127.0.0.1 - - [02/Dec/2021 20:44:54] \"GET /getSimulationOutput HTTP/1.1\" 200 -\n",
      "127.0.0.1 - - [02/Dec/2021 20:44:56] \"GET /getSimulationOutput HTTP/1.1\" 200 -\n",
      "127.0.0.1 - - [02/Dec/2021 20:44:58] \"GET /getSimulationOutput HTTP/1.1\" 200 -\n",
      "127.0.0.1 - - [02/Dec/2021 20:45:00] \"GET /getSimulationOutput HTTP/1.1\" 200 -\n"
     ]
    },
    {
     "name": "stdout",
     "output_type": "stream",
     "text": [
      "127.0.0.1 - - [02/Dec/2021 20:45:02] \"GET /getSimulationOutput HTTP/1.1\" 200 -\n",
      "127.0.0.1 - - [02/Dec/2021 20:45:04] \"GET /getSimulationOutput HTTP/1.1\" 200 -\n",
      "127.0.0.1 - - [02/Dec/2021 20:45:06] \"GET /getSimulationOutput HTTP/1.1\" 200 -\n",
      "127.0.0.1 - - [02/Dec/2021 20:45:08] \"GET /getSimulationOutput HTTP/1.1\" 200 -\n",
      "127.0.0.1 - - [02/Dec/2021 20:45:10] \"GET /getSimulationOutput HTTP/1.1\" 200 -\n",
      "127.0.0.1 - - [02/Dec/2021 20:45:12] \"GET /getSimulationOutput HTTP/1.1\" 200 -\n",
      "127.0.0.1 - - [02/Dec/2021 20:45:14] \"GET /getSimulationOutput HTTP/1.1\" 200 -\n",
      "127.0.0.1 - - [02/Dec/2021 20:45:16] \"GET /getSimulationOutput HTTP/1.1\" 200 -\n",
      "127.0.0.1 - - [02/Dec/2021 20:45:18] \"GET /getSimulationOutput HTTP/1.1\" 200 -\n",
      "127.0.0.1 - - [02/Dec/2021 20:45:20] \"GET /getSimulationOutput HTTP/1.1\" 200 -\n",
      "127.0.0.1 - - [02/Dec/2021 20:45:22] \"GET /getSimulationOutput HTTP/1.1\" 200 -\n",
      "127.0.0.1 - - [02/Dec/2021 20:45:24] \"GET /getSimulationOutput HTTP/1.1\" 200 -\n",
      "127.0.0.1 - - [02/Dec/2021 20:45:26] \"GET /getSimulationOutput HTTP/1.1\" 200 -\n",
      "127.0.0.1 - - [02/Dec/2021 20:45:28] \"GET /getSimulationOutput HTTP/1.1\" 200 -\n",
      "127.0.0.1 - - [02/Dec/2021 20:45:30] \"GET /getSimulationOutput HTTP/1.1\" 200 -\n",
      "127.0.0.1 - - [02/Dec/2021 20:45:32] \"GET /getSimulationOutput HTTP/1.1\" 200 -\n",
      "127.0.0.1 - - [02/Dec/2021 20:45:34] \"GET /getSimulationOutput HTTP/1.1\" 200 -\n",
      "127.0.0.1 - - [02/Dec/2021 20:45:36] \"GET /getSimulationOutput HTTP/1.1\" 200 -\n",
      "127.0.0.1 - - [02/Dec/2021 20:45:38] \"GET /getSimulationOutput HTTP/1.1\" 200 -\n",
      "127.0.0.1 - - [02/Dec/2021 20:45:40] \"GET /getSimulationOutput HTTP/1.1\" 200 -\n",
      "127.0.0.1 - - [02/Dec/2021 20:45:42] \"GET /getSimulationOutput HTTP/1.1\" 200 -\n",
      "127.0.0.1 - - [02/Dec/2021 20:45:44] \"GET /getSimulationOutput HTTP/1.1\" 200 -\n",
      "127.0.0.1 - - [02/Dec/2021 20:45:46] \"GET /getSimulationOutput HTTP/1.1\" 200 -\n",
      "127.0.0.1 - - [02/Dec/2021 20:45:48] \"GET /getSimulationOutput HTTP/1.1\" 200 -\n",
      "127.0.0.1 - - [02/Dec/2021 20:45:50] \"GET /getSimulationOutput HTTP/1.1\" 200 -\n",
      "127.0.0.1 - - [02/Dec/2021 20:45:52] \"GET /getSimulationOutput HTTP/1.1\" 200 -\n",
      "127.0.0.1 - - [02/Dec/2021 20:45:54] \"GET /getSimulationOutput HTTP/1.1\" 200 -\n",
      "127.0.0.1 - - [02/Dec/2021 20:45:56] \"GET /getSimulationOutput HTTP/1.1\" 200 -\n",
      "127.0.0.1 - - [02/Dec/2021 20:45:58] \"GET /getSimulationOutput HTTP/1.1\" 200 -\n",
      "127.0.0.1 - - [02/Dec/2021 20:46:00] \"GET /getSimulationOutput HTTP/1.1\" 200 -\n",
      "127.0.0.1 - - [02/Dec/2021 20:46:02] \"GET /getSimulationOutput HTTP/1.1\" 200 -\n",
      "127.0.0.1 - - [02/Dec/2021 20:46:04] \"GET /getSimulationOutput HTTP/1.1\" 200 -\n",
      "127.0.0.1 - - [02/Dec/2021 20:46:06] \"GET /getSimulationOutput HTTP/1.1\" 200 -\n",
      "127.0.0.1 - - [02/Dec/2021 20:46:08] \"GET /getSimulationOutput HTTP/1.1\" 200 -\n",
      "127.0.0.1 - - [02/Dec/2021 20:46:10] \"GET /getSimulationOutput HTTP/1.1\" 200 -\n",
      "127.0.0.1 - - [02/Dec/2021 20:46:12] \"GET /getSimulationOutput HTTP/1.1\" 200 -\n",
      "127.0.0.1 - - [02/Dec/2021 20:46:14] \"GET /getSimulationOutput HTTP/1.1\" 200 -\n",
      "127.0.0.1 - - [02/Dec/2021 20:46:16] \"GET /getSimulationOutput HTTP/1.1\" 200 -\n",
      "127.0.0.1 - - [02/Dec/2021 20:46:18] \"GET /getSimulationOutput HTTP/1.1\" 200 -\n",
      "127.0.0.1 - - [02/Dec/2021 20:46:20] \"GET /getSimulationOutput HTTP/1.1\" 200 -\n",
      "127.0.0.1 - - [02/Dec/2021 20:46:22] \"GET /getSimulationOutput HTTP/1.1\" 200 -\n",
      "127.0.0.1 - - [02/Dec/2021 20:46:24] \"GET /getSimulationOutput HTTP/1.1\" 200 -\n",
      "127.0.0.1 - - [02/Dec/2021 20:46:26] \"GET /getSimulationOutput HTTP/1.1\" 200 -\n",
      "127.0.0.1 - - [02/Dec/2021 20:46:28] \"GET /getSimulationOutput HTTP/1.1\" 200 -\n",
      "127.0.0.1 - - [02/Dec/2021 20:46:30] \"GET /getSimulationOutput HTTP/1.1\" 200 -\n",
      "127.0.0.1 - - [02/Dec/2021 20:46:32] \"GET /getSimulationOutput HTTP/1.1\" 200 -\n",
      "127.0.0.1 - - [02/Dec/2021 20:46:34] \"GET /getSimulationOutput HTTP/1.1\" 200 -\n",
      "127.0.0.1 - - [02/Dec/2021 20:46:36] \"GET /getSimulationOutput HTTP/1.1\" 200 -\n",
      "127.0.0.1 - - [02/Dec/2021 20:46:38] \"GET /getSimulationOutput HTTP/1.1\" 200 -\n",
      "127.0.0.1 - - [02/Dec/2021 20:46:40] \"GET /getSimulationOutput HTTP/1.1\" 200 -\n",
      "127.0.0.1 - - [02/Dec/2021 20:46:42] \"GET /getSimulationOutput HTTP/1.1\" 200 -\n",
      "127.0.0.1 - - [02/Dec/2021 20:46:44] \"GET /getSimulationOutput HTTP/1.1\" 200 -\n",
      "127.0.0.1 - - [02/Dec/2021 20:46:46] \"GET /getSimulationOutput HTTP/1.1\" 200 -\n",
      "127.0.0.1 - - [02/Dec/2021 20:46:48] \"GET /getSimulationOutput HTTP/1.1\" 200 -\n",
      "127.0.0.1 - - [02/Dec/2021 20:46:50] \"GET /getSimulationOutput HTTP/1.1\" 200 -\n",
      "127.0.0.1 - - [02/Dec/2021 20:46:52] \"GET /getSimulationOutput HTTP/1.1\" 200 -\n",
      "127.0.0.1 - - [02/Dec/2021 20:46:54] \"GET /getSimulationOutput HTTP/1.1\" 200 -\n",
      "127.0.0.1 - - [02/Dec/2021 20:46:56] \"GET /getSimulationOutput HTTP/1.1\" 200 -\n",
      "127.0.0.1 - - [02/Dec/2021 20:46:58] \"GET /getSimulationOutput HTTP/1.1\" 200 -\n",
      "127.0.0.1 - - [02/Dec/2021 20:47:00] \"GET /getSimulationOutput HTTP/1.1\" 200 -\n",
      "127.0.0.1 - - [02/Dec/2021 20:47:02] \"GET /getSimulationOutput HTTP/1.1\" 200 -\n",
      "127.0.0.1 - - [02/Dec/2021 20:47:04] \"GET /getSimulationOutput HTTP/1.1\" 200 -\n",
      "127.0.0.1 - - [02/Dec/2021 20:47:06] \"GET /getSimulationOutput HTTP/1.1\" 200 -\n",
      "127.0.0.1 - - [02/Dec/2021 20:47:08] \"GET /getSimulationOutput HTTP/1.1\" 200 -\n",
      "127.0.0.1 - - [02/Dec/2021 20:47:10] \"GET /getSimulationOutput HTTP/1.1\" 200 -\n",
      "127.0.0.1 - - [02/Dec/2021 20:47:12] \"GET /getSimulationOutput HTTP/1.1\" 200 -\n",
      "127.0.0.1 - - [02/Dec/2021 20:47:14] \"GET /getSimulationOutput HTTP/1.1\" 200 -\n",
      "127.0.0.1 - - [02/Dec/2021 20:47:16] \"GET /getSimulationOutput HTTP/1.1\" 200 -\n",
      "127.0.0.1 - - [02/Dec/2021 20:47:18] \"GET /getSimulationOutput HTTP/1.1\" 200 -\n",
      "127.0.0.1 - - [02/Dec/2021 20:47:20] \"GET /getSimulationOutput HTTP/1.1\" 200 -\n",
      "127.0.0.1 - - [02/Dec/2021 20:47:22] \"GET /getSimulationOutput HTTP/1.1\" 200 -\n",
      "127.0.0.1 - - [02/Dec/2021 20:47:24] \"GET /getSimulationOutput HTTP/1.1\" 200 -\n",
      "127.0.0.1 - - [02/Dec/2021 20:47:26] \"GET /getSimulationOutput HTTP/1.1\" 200 -\n",
      "127.0.0.1 - - [02/Dec/2021 20:47:28] \"GET /getSimulationOutput HTTP/1.1\" 200 -\n",
      "127.0.0.1 - - [02/Dec/2021 20:47:30] \"GET /getSimulationOutput HTTP/1.1\" 200 -\n",
      "127.0.0.1 - - [02/Dec/2021 20:47:32] \"GET /getSimulationOutput HTTP/1.1\" 200 -\n",
      "127.0.0.1 - - [02/Dec/2021 20:47:34] \"GET /getSimulationOutput HTTP/1.1\" 200 -\n",
      "127.0.0.1 - - [02/Dec/2021 20:47:36] \"GET /getSimulationOutput HTTP/1.1\" 200 -\n",
      "127.0.0.1 - - [02/Dec/2021 20:47:38] \"GET /getSimulationOutput HTTP/1.1\" 200 -\n",
      "127.0.0.1 - - [02/Dec/2021 20:47:40] \"GET /getSimulationOutput HTTP/1.1\" 200 -\n",
      "127.0.0.1 - - [02/Dec/2021 20:47:42] \"GET /getSimulationOutput HTTP/1.1\" 200 -\n",
      "127.0.0.1 - - [02/Dec/2021 20:47:44] \"GET /getSimulationOutput HTTP/1.1\" 200 -\n",
      "127.0.0.1 - - [02/Dec/2021 20:47:46] \"GET /getSimulationOutput HTTP/1.1\" 200 -\n",
      "127.0.0.1 - - [02/Dec/2021 20:47:48] \"GET /getSimulationOutput HTTP/1.1\" 200 -\n",
      "127.0.0.1 - - [02/Dec/2021 20:47:50] \"GET /getSimulationOutput HTTP/1.1\" 200 -\n",
      "127.0.0.1 - - [02/Dec/2021 20:47:52] \"GET /getSimulationOutput HTTP/1.1\" 200 -\n",
      "127.0.0.1 - - [02/Dec/2021 20:47:54] \"GET /getSimulationOutput HTTP/1.1\" 200 -\n",
      "127.0.0.1 - - [02/Dec/2021 20:47:56] \"GET /getSimulationOutput HTTP/1.1\" 200 -\n",
      "127.0.0.1 - - [02/Dec/2021 20:47:58] \"GET /getSimulationOutput HTTP/1.1\" 200 -\n",
      "127.0.0.1 - - [02/Dec/2021 20:48:00] \"GET /getSimulationOutput HTTP/1.1\" 200 -\n",
      "127.0.0.1 - - [02/Dec/2021 20:48:02] \"GET /getSimulationOutput HTTP/1.1\" 200 -\n",
      "127.0.0.1 - - [02/Dec/2021 20:48:04] \"GET /getSimulationOutput HTTP/1.1\" 200 -\n",
      "127.0.0.1 - - [02/Dec/2021 20:48:06] \"GET /getSimulationOutput HTTP/1.1\" 200 -\n",
      "127.0.0.1 - - [02/Dec/2021 20:48:08] \"GET /getSimulationOutput HTTP/1.1\" 200 -\n",
      "127.0.0.1 - - [02/Dec/2021 20:48:10] \"GET /getSimulationOutput HTTP/1.1\" 200 -\n",
      "127.0.0.1 - - [02/Dec/2021 20:48:12] \"GET /getSimulationOutput HTTP/1.1\" 200 -\n",
      "127.0.0.1 - - [02/Dec/2021 20:48:14] \"GET /getSimulationOutput HTTP/1.1\" 200 -\n",
      "127.0.0.1 - - [02/Dec/2021 20:48:16] \"GET /getSimulationOutput HTTP/1.1\" 200 -\n",
      "127.0.0.1 - - [02/Dec/2021 20:48:18] \"GET /getSimulationOutput HTTP/1.1\" 200 -\n",
      "127.0.0.1 - - [02/Dec/2021 20:48:20] \"GET /getSimulationOutput HTTP/1.1\" 200 -\n",
      "127.0.0.1 - - [02/Dec/2021 20:48:22] \"GET /getSimulationOutput HTTP/1.1\" 200 -\n",
      "127.0.0.1 - - [02/Dec/2021 20:48:24] \"GET /getSimulationOutput HTTP/1.1\" 200 -\n",
      "127.0.0.1 - - [02/Dec/2021 20:48:26] \"GET /getSimulationOutput HTTP/1.1\" 200 -\n",
      "127.0.0.1 - - [02/Dec/2021 20:48:28] \"GET /getSimulationOutput HTTP/1.1\" 200 -\n"
     ]
    },
    {
     "name": "stdout",
     "output_type": "stream",
     "text": [
      "127.0.0.1 - - [02/Dec/2021 20:48:30] \"GET /getSimulationOutput HTTP/1.1\" 200 -\n",
      "127.0.0.1 - - [02/Dec/2021 20:48:32] \"GET /getSimulationOutput HTTP/1.1\" 200 -\n",
      "127.0.0.1 - - [02/Dec/2021 20:48:34] \"GET /getSimulationOutput HTTP/1.1\" 200 -\n",
      "127.0.0.1 - - [02/Dec/2021 20:48:36] \"GET /getSimulationOutput HTTP/1.1\" 200 -\n",
      "127.0.0.1 - - [02/Dec/2021 20:48:38] \"GET /getSimulationOutput HTTP/1.1\" 200 -\n",
      "127.0.0.1 - - [02/Dec/2021 20:48:40] \"GET /getSimulationOutput HTTP/1.1\" 200 -\n",
      "127.0.0.1 - - [02/Dec/2021 20:48:42] \"GET /getSimulationOutput HTTP/1.1\" 200 -\n",
      "127.0.0.1 - - [02/Dec/2021 20:48:44] \"GET /getSimulationOutput HTTP/1.1\" 200 -\n",
      "127.0.0.1 - - [02/Dec/2021 20:48:46] \"GET /getSimulationOutput HTTP/1.1\" 200 -\n",
      "127.0.0.1 - - [02/Dec/2021 20:48:48] \"GET /getSimulationOutput HTTP/1.1\" 200 -\n",
      "127.0.0.1 - - [02/Dec/2021 20:48:50] \"GET /getSimulationOutput HTTP/1.1\" 200 -\n",
      "127.0.0.1 - - [02/Dec/2021 20:48:52] \"GET /getSimulationOutput HTTP/1.1\" 200 -\n",
      "127.0.0.1 - - [02/Dec/2021 20:48:54] \"GET /getSimulationOutput HTTP/1.1\" 200 -\n",
      "127.0.0.1 - - [02/Dec/2021 20:48:56] \"GET /getSimulationOutput HTTP/1.1\" 200 -\n",
      "127.0.0.1 - - [02/Dec/2021 20:48:58] \"GET /getSimulationOutput HTTP/1.1\" 200 -\n",
      "127.0.0.1 - - [02/Dec/2021 20:49:00] \"GET /getSimulationOutput HTTP/1.1\" 200 -\n",
      "127.0.0.1 - - [02/Dec/2021 20:49:02] \"GET /getSimulationOutput HTTP/1.1\" 200 -\n",
      "127.0.0.1 - - [02/Dec/2021 20:49:04] \"GET /getSimulationOutput HTTP/1.1\" 200 -\n",
      "127.0.0.1 - - [02/Dec/2021 20:49:06] \"GET /getSimulationOutput HTTP/1.1\" 200 -\n",
      "127.0.0.1 - - [02/Dec/2021 20:49:08] \"GET /getSimulationOutput HTTP/1.1\" 200 -\n",
      "127.0.0.1 - - [02/Dec/2021 20:49:10] \"GET /getSimulationOutput HTTP/1.1\" 200 -\n",
      "127.0.0.1 - - [02/Dec/2021 20:49:12] \"GET /getSimulationOutput HTTP/1.1\" 200 -\n",
      "127.0.0.1 - - [02/Dec/2021 20:49:14] \"GET /getSimulationOutput HTTP/1.1\" 200 -\n",
      "127.0.0.1 - - [02/Dec/2021 20:49:16] \"GET /getSimulationOutput HTTP/1.1\" 200 -\n",
      "127.0.0.1 - - [02/Dec/2021 20:49:18] \"GET /getSimulationOutput HTTP/1.1\" 200 -\n",
      "127.0.0.1 - - [02/Dec/2021 20:49:20] \"GET /getSimulationOutput HTTP/1.1\" 200 -\n",
      "127.0.0.1 - - [02/Dec/2021 20:49:22] \"GET /getSimulationOutput HTTP/1.1\" 200 -\n",
      "127.0.0.1 - - [02/Dec/2021 20:49:24] \"GET /getSimulationOutput HTTP/1.1\" 200 -\n",
      "127.0.0.1 - - [02/Dec/2021 20:49:26] \"GET /getSimulationOutput HTTP/1.1\" 200 -\n",
      "127.0.0.1 - - [02/Dec/2021 20:49:28] \"GET /getSimulationOutput HTTP/1.1\" 200 -\n",
      "127.0.0.1 - - [02/Dec/2021 20:49:30] \"GET /getSimulationOutput HTTP/1.1\" 200 -\n",
      "127.0.0.1 - - [02/Dec/2021 20:49:32] \"GET /getSimulationOutput HTTP/1.1\" 200 -\n",
      "127.0.0.1 - - [02/Dec/2021 20:49:34] \"GET /getSimulationOutput HTTP/1.1\" 200 -\n",
      "127.0.0.1 - - [02/Dec/2021 20:49:36] \"GET /getSimulationOutput HTTP/1.1\" 200 -\n",
      "127.0.0.1 - - [02/Dec/2021 20:49:38] \"GET /getSimulationOutput HTTP/1.1\" 200 -\n",
      "127.0.0.1 - - [02/Dec/2021 20:49:40] \"GET /getSimulationOutput HTTP/1.1\" 200 -\n",
      "127.0.0.1 - - [02/Dec/2021 20:49:42] \"GET /getSimulationOutput HTTP/1.1\" 200 -\n",
      "127.0.0.1 - - [02/Dec/2021 20:49:44] \"GET /getSimulationOutput HTTP/1.1\" 200 -\n",
      "127.0.0.1 - - [02/Dec/2021 20:49:46] \"GET /getSimulationOutput HTTP/1.1\" 200 -\n",
      "127.0.0.1 - - [02/Dec/2021 20:49:48] \"GET /getSimulationOutput HTTP/1.1\" 200 -\n",
      "127.0.0.1 - - [02/Dec/2021 20:49:50] \"GET /getSimulationOutput HTTP/1.1\" 200 -\n",
      "127.0.0.1 - - [02/Dec/2021 20:49:52] \"GET /getSimulationOutput HTTP/1.1\" 200 -\n",
      "127.0.0.1 - - [02/Dec/2021 20:49:54] \"GET /getSimulationOutput HTTP/1.1\" 200 -\n",
      "127.0.0.1 - - [02/Dec/2021 20:49:56] \"GET /getSimulationOutput HTTP/1.1\" 200 -\n",
      "127.0.0.1 - - [02/Dec/2021 20:49:58] \"GET /getSimulationOutput HTTP/1.1\" 200 -\n",
      "127.0.0.1 - - [02/Dec/2021 20:50:00] \"GET /getSimulationOutput HTTP/1.1\" 200 -\n",
      "127.0.0.1 - - [02/Dec/2021 20:50:02] \"GET /getSimulationOutput HTTP/1.1\" 200 -\n",
      "127.0.0.1 - - [02/Dec/2021 20:50:04] \"GET /getSimulationOutput HTTP/1.1\" 200 -\n",
      "127.0.0.1 - - [02/Dec/2021 20:50:06] \"GET /getSimulationOutput HTTP/1.1\" 200 -\n",
      "127.0.0.1 - - [02/Dec/2021 20:50:08] \"GET /getSimulationOutput HTTP/1.1\" 200 -\n",
      "127.0.0.1 - - [02/Dec/2021 20:50:10] \"GET /getSimulationOutput HTTP/1.1\" 200 -\n",
      "127.0.0.1 - - [02/Dec/2021 20:50:12] \"GET /getSimulationOutput HTTP/1.1\" 200 -\n",
      "127.0.0.1 - - [02/Dec/2021 20:50:14] \"GET /getSimulationOutput HTTP/1.1\" 200 -\n",
      "127.0.0.1 - - [02/Dec/2021 20:50:16] \"GET /getSimulationOutput HTTP/1.1\" 200 -\n",
      "127.0.0.1 - - [02/Dec/2021 20:50:18] \"GET /getSimulationOutput HTTP/1.1\" 200 -\n",
      "127.0.0.1 - - [02/Dec/2021 20:50:20] \"GET /getSimulationOutput HTTP/1.1\" 200 -\n",
      "127.0.0.1 - - [02/Dec/2021 20:50:22] \"GET /getSimulationOutput HTTP/1.1\" 200 -\n",
      "127.0.0.1 - - [02/Dec/2021 20:50:24] \"GET /getSimulationOutput HTTP/1.1\" 200 -\n",
      "127.0.0.1 - - [02/Dec/2021 20:50:26] \"GET /getSimulationOutput HTTP/1.1\" 200 -\n",
      "127.0.0.1 - - [02/Dec/2021 20:50:28] \"GET /getSimulationOutput HTTP/1.1\" 200 -\n",
      "127.0.0.1 - - [02/Dec/2021 20:50:30] \"GET /getSimulationOutput HTTP/1.1\" 200 -\n",
      "127.0.0.1 - - [02/Dec/2021 20:50:32] \"GET /getSimulationOutput HTTP/1.1\" 200 -\n",
      "127.0.0.1 - - [02/Dec/2021 20:50:34] \"GET /getSimulationOutput HTTP/1.1\" 200 -\n",
      "127.0.0.1 - - [02/Dec/2021 20:50:36] \"GET /getSimulationOutput HTTP/1.1\" 200 -\n",
      "127.0.0.1 - - [02/Dec/2021 20:50:38] \"GET /getSimulationOutput HTTP/1.1\" 200 -\n",
      "127.0.0.1 - - [02/Dec/2021 20:50:40] \"GET /getSimulationOutput HTTP/1.1\" 200 -\n",
      "127.0.0.1 - - [02/Dec/2021 20:50:42] \"GET /getSimulationOutput HTTP/1.1\" 200 -\n",
      "127.0.0.1 - - [02/Dec/2021 20:50:44] \"GET /getSimulationOutput HTTP/1.1\" 200 -\n",
      "127.0.0.1 - - [02/Dec/2021 20:50:46] \"GET /getSimulationOutput HTTP/1.1\" 200 -\n",
      "127.0.0.1 - - [02/Dec/2021 20:50:48] \"GET /getSimulationOutput HTTP/1.1\" 200 -\n",
      "127.0.0.1 - - [02/Dec/2021 20:50:50] \"GET /getSimulationOutput HTTP/1.1\" 200 -\n",
      "127.0.0.1 - - [02/Dec/2021 20:50:52] \"GET /getSimulationOutput HTTP/1.1\" 200 -\n",
      "127.0.0.1 - - [02/Dec/2021 20:50:54] \"GET /getSimulationOutput HTTP/1.1\" 200 -\n",
      "127.0.0.1 - - [02/Dec/2021 20:50:56] \"GET /getSimulationOutput HTTP/1.1\" 200 -\n",
      "127.0.0.1 - - [02/Dec/2021 20:50:58] \"GET /getSimulationOutput HTTP/1.1\" 200 -\n",
      "127.0.0.1 - - [02/Dec/2021 20:51:00] \"GET /getSimulationOutput HTTP/1.1\" 200 -\n",
      "127.0.0.1 - - [02/Dec/2021 20:51:02] \"GET /getSimulationOutput HTTP/1.1\" 200 -\n",
      "127.0.0.1 - - [02/Dec/2021 20:51:04] \"GET /getSimulationOutput HTTP/1.1\" 200 -\n",
      "127.0.0.1 - - [02/Dec/2021 20:51:06] \"GET /getSimulationOutput HTTP/1.1\" 200 -\n",
      "127.0.0.1 - - [02/Dec/2021 20:51:08] \"GET /getSimulationOutput HTTP/1.1\" 200 -\n",
      "127.0.0.1 - - [02/Dec/2021 20:51:10] \"GET /getSimulationOutput HTTP/1.1\" 200 -\n",
      "127.0.0.1 - - [02/Dec/2021 20:51:12] \"GET /getSimulationOutput HTTP/1.1\" 200 -\n",
      "127.0.0.1 - - [02/Dec/2021 20:51:14] \"GET /getSimulationOutput HTTP/1.1\" 200 -\n",
      "127.0.0.1 - - [02/Dec/2021 20:51:16] \"GET /getSimulationOutput HTTP/1.1\" 200 -\n",
      "127.0.0.1 - - [02/Dec/2021 20:51:18] \"GET /getSimulationOutput HTTP/1.1\" 200 -\n",
      "127.0.0.1 - - [02/Dec/2021 20:51:20] \"GET /getSimulationOutput HTTP/1.1\" 200 -\n",
      "127.0.0.1 - - [02/Dec/2021 20:51:22] \"GET /getSimulationOutput HTTP/1.1\" 200 -\n",
      "127.0.0.1 - - [02/Dec/2021 20:51:24] \"GET /getSimulationOutput HTTP/1.1\" 200 -\n",
      "127.0.0.1 - - [02/Dec/2021 20:51:26] \"GET /getSimulationOutput HTTP/1.1\" 200 -\n",
      "127.0.0.1 - - [02/Dec/2021 20:51:28] \"GET /getSimulationOutput HTTP/1.1\" 200 -\n",
      "127.0.0.1 - - [02/Dec/2021 20:51:30] \"GET /getSimulationOutput HTTP/1.1\" 200 -\n",
      "127.0.0.1 - - [02/Dec/2021 20:51:32] \"GET /getSimulationOutput HTTP/1.1\" 200 -\n",
      "127.0.0.1 - - [02/Dec/2021 20:51:34] \"GET /getSimulationOutput HTTP/1.1\" 200 -\n",
      "127.0.0.1 - - [02/Dec/2021 20:51:36] \"GET /getSimulationOutput HTTP/1.1\" 200 -\n",
      "127.0.0.1 - - [02/Dec/2021 20:51:38] \"GET /getSimulationOutput HTTP/1.1\" 200 -\n",
      "127.0.0.1 - - [02/Dec/2021 20:51:40] \"GET /getSimulationOutput HTTP/1.1\" 200 -\n",
      "127.0.0.1 - - [02/Dec/2021 20:51:42] \"GET /getSimulationOutput HTTP/1.1\" 200 -\n",
      "127.0.0.1 - - [02/Dec/2021 20:51:44] \"GET /getSimulationOutput HTTP/1.1\" 200 -\n",
      "127.0.0.1 - - [02/Dec/2021 20:51:46] \"GET /getSimulationOutput HTTP/1.1\" 200 -\n",
      "127.0.0.1 - - [02/Dec/2021 20:51:48] \"GET /getSimulationOutput HTTP/1.1\" 200 -\n",
      "127.0.0.1 - - [02/Dec/2021 20:51:50] \"GET /getSimulationOutput HTTP/1.1\" 200 -\n",
      "127.0.0.1 - - [02/Dec/2021 20:51:52] \"GET /getSimulationOutput HTTP/1.1\" 200 -\n",
      "127.0.0.1 - - [02/Dec/2021 20:51:54] \"GET /getSimulationOutput HTTP/1.1\" 200 -\n",
      "127.0.0.1 - - [02/Dec/2021 20:51:56] \"GET /getSimulationOutput HTTP/1.1\" 200 -\n"
     ]
    },
    {
     "name": "stdout",
     "output_type": "stream",
     "text": [
      "127.0.0.1 - - [02/Dec/2021 20:51:58] \"GET /getSimulationOutput HTTP/1.1\" 200 -\n",
      "127.0.0.1 - - [02/Dec/2021 20:52:00] \"GET /getSimulationOutput HTTP/1.1\" 200 -\n",
      "127.0.0.1 - - [02/Dec/2021 20:52:02] \"GET /getSimulationOutput HTTP/1.1\" 200 -\n",
      "127.0.0.1 - - [02/Dec/2021 20:52:04] \"GET /getSimulationOutput HTTP/1.1\" 200 -\n",
      "127.0.0.1 - - [02/Dec/2021 20:52:06] \"GET /getSimulationOutput HTTP/1.1\" 200 -\n",
      "127.0.0.1 - - [02/Dec/2021 20:52:08] \"GET /getSimulationOutput HTTP/1.1\" 200 -\n",
      "127.0.0.1 - - [02/Dec/2021 20:52:10] \"GET /getSimulationOutput HTTP/1.1\" 200 -\n",
      "127.0.0.1 - - [02/Dec/2021 20:52:12] \"GET /getSimulationOutput HTTP/1.1\" 200 -\n",
      "127.0.0.1 - - [02/Dec/2021 20:52:14] \"GET /getSimulationOutput HTTP/1.1\" 200 -\n",
      "127.0.0.1 - - [02/Dec/2021 20:52:16] \"GET /getSimulationOutput HTTP/1.1\" 200 -\n",
      "127.0.0.1 - - [02/Dec/2021 20:52:18] \"GET /getSimulationOutput HTTP/1.1\" 200 -\n",
      "127.0.0.1 - - [02/Dec/2021 20:52:20] \"GET /getSimulationOutput HTTP/1.1\" 200 -\n",
      "127.0.0.1 - - [02/Dec/2021 20:52:22] \"GET /getSimulationOutput HTTP/1.1\" 200 -\n",
      "127.0.0.1 - - [02/Dec/2021 20:52:24] \"GET /getSimulationOutput HTTP/1.1\" 200 -\n",
      "127.0.0.1 - - [02/Dec/2021 20:52:26] \"GET /getSimulationOutput HTTP/1.1\" 200 -\n",
      "127.0.0.1 - - [02/Dec/2021 20:52:28] \"GET /getSimulationOutput HTTP/1.1\" 200 -\n",
      "127.0.0.1 - - [02/Dec/2021 20:52:30] \"GET /getSimulationOutput HTTP/1.1\" 200 -\n",
      "127.0.0.1 - - [02/Dec/2021 20:52:32] \"GET /getSimulationOutput HTTP/1.1\" 200 -\n",
      "127.0.0.1 - - [02/Dec/2021 20:52:34] \"GET /getSimulationOutput HTTP/1.1\" 200 -\n",
      "127.0.0.1 - - [02/Dec/2021 20:52:36] \"GET /getSimulationOutput HTTP/1.1\" 200 -\n",
      "127.0.0.1 - - [02/Dec/2021 20:52:38] \"GET /getSimulationOutput HTTP/1.1\" 200 -\n",
      "127.0.0.1 - - [02/Dec/2021 20:52:40] \"GET /getSimulationOutput HTTP/1.1\" 200 -\n",
      "127.0.0.1 - - [02/Dec/2021 20:52:42] \"GET /getSimulationOutput HTTP/1.1\" 200 -\n",
      "127.0.0.1 - - [02/Dec/2021 20:52:44] \"GET /getSimulationOutput HTTP/1.1\" 200 -\n",
      "127.0.0.1 - - [02/Dec/2021 20:52:46] \"GET /getSimulationOutput HTTP/1.1\" 200 -\n",
      "127.0.0.1 - - [02/Dec/2021 20:52:48] \"GET /getSimulationOutput HTTP/1.1\" 200 -\n",
      "127.0.0.1 - - [02/Dec/2021 20:52:50] \"GET /getSimulationOutput HTTP/1.1\" 200 -\n",
      "127.0.0.1 - - [02/Dec/2021 20:52:52] \"GET /getSimulationOutput HTTP/1.1\" 200 -\n",
      "127.0.0.1 - - [02/Dec/2021 20:52:54] \"GET /getSimulationOutput HTTP/1.1\" 200 -\n",
      "127.0.0.1 - - [02/Dec/2021 20:52:56] \"GET /getSimulationOutput HTTP/1.1\" 200 -\n",
      "127.0.0.1 - - [02/Dec/2021 20:52:58] \"GET /getSimulationOutput HTTP/1.1\" 200 -\n",
      "127.0.0.1 - - [02/Dec/2021 20:53:00] \"GET /getSimulationOutput HTTP/1.1\" 200 -\n",
      "127.0.0.1 - - [02/Dec/2021 20:53:02] \"GET /getSimulationOutput HTTP/1.1\" 200 -\n",
      "127.0.0.1 - - [02/Dec/2021 20:53:04] \"GET /getSimulationOutput HTTP/1.1\" 200 -\n",
      "127.0.0.1 - - [02/Dec/2021 20:53:06] \"GET /getSimulationOutput HTTP/1.1\" 200 -\n",
      "127.0.0.1 - - [02/Dec/2021 20:53:08] \"GET /getSimulationOutput HTTP/1.1\" 200 -\n",
      "127.0.0.1 - - [02/Dec/2021 20:53:10] \"GET /getSimulationOutput HTTP/1.1\" 200 -\n",
      "127.0.0.1 - - [02/Dec/2021 20:53:12] \"GET /getSimulationOutput HTTP/1.1\" 200 -\n",
      "127.0.0.1 - - [02/Dec/2021 20:53:14] \"GET /getSimulationOutput HTTP/1.1\" 200 -\n",
      "127.0.0.1 - - [02/Dec/2021 20:53:16] \"GET /getSimulationOutput HTTP/1.1\" 200 -\n",
      "127.0.0.1 - - [02/Dec/2021 20:53:18] \"GET /getSimulationOutput HTTP/1.1\" 200 -\n",
      "127.0.0.1 - - [02/Dec/2021 20:53:20] \"GET /getSimulationOutput HTTP/1.1\" 200 -\n",
      "127.0.0.1 - - [02/Dec/2021 20:53:22] \"GET /getSimulationOutput HTTP/1.1\" 200 -\n",
      "127.0.0.1 - - [02/Dec/2021 20:53:24] \"GET /getSimulationOutput HTTP/1.1\" 200 -\n",
      "127.0.0.1 - - [02/Dec/2021 20:53:26] \"GET /getSimulationOutput HTTP/1.1\" 200 -\n",
      "127.0.0.1 - - [02/Dec/2021 20:53:28] \"GET /getSimulationOutput HTTP/1.1\" 200 -\n",
      "127.0.0.1 - - [02/Dec/2021 20:53:30] \"GET /getSimulationOutput HTTP/1.1\" 200 -\n",
      "127.0.0.1 - - [02/Dec/2021 20:53:32] \"GET /getSimulationOutput HTTP/1.1\" 200 -\n",
      "127.0.0.1 - - [02/Dec/2021 20:53:34] \"GET /getSimulationOutput HTTP/1.1\" 200 -\n",
      "127.0.0.1 - - [02/Dec/2021 20:53:36] \"GET /getSimulationOutput HTTP/1.1\" 200 -\n",
      "127.0.0.1 - - [02/Dec/2021 20:53:38] \"GET /getSimulationOutput HTTP/1.1\" 200 -\n",
      "127.0.0.1 - - [02/Dec/2021 20:53:40] \"GET /getSimulationOutput HTTP/1.1\" 200 -\n",
      "127.0.0.1 - - [02/Dec/2021 20:53:42] \"GET /getSimulationOutput HTTP/1.1\" 200 -\n",
      "127.0.0.1 - - [02/Dec/2021 20:53:44] \"GET /getSimulationOutput HTTP/1.1\" 200 -\n",
      "127.0.0.1 - - [02/Dec/2021 20:53:46] \"GET /getSimulationOutput HTTP/1.1\" 200 -\n",
      "127.0.0.1 - - [02/Dec/2021 20:53:48] \"GET /getSimulationOutput HTTP/1.1\" 200 -\n",
      "127.0.0.1 - - [02/Dec/2021 20:53:50] \"GET /getSimulationOutput HTTP/1.1\" 200 -\n",
      "127.0.0.1 - - [02/Dec/2021 20:53:52] \"GET /getSimulationOutput HTTP/1.1\" 200 -\n",
      "127.0.0.1 - - [02/Dec/2021 20:53:54] \"GET /getSimulationOutput HTTP/1.1\" 200 -\n",
      "127.0.0.1 - - [02/Dec/2021 20:53:56] \"GET /getSimulationOutput HTTP/1.1\" 200 -\n",
      "127.0.0.1 - - [02/Dec/2021 20:53:58] \"GET /getSimulationOutput HTTP/1.1\" 200 -\n",
      "127.0.0.1 - - [02/Dec/2021 20:54:00] \"GET /getSimulationOutput HTTP/1.1\" 200 -\n",
      "127.0.0.1 - - [02/Dec/2021 20:54:02] \"GET /getSimulationOutput HTTP/1.1\" 200 -\n",
      "127.0.0.1 - - [02/Dec/2021 20:54:04] \"GET /getSimulationOutput HTTP/1.1\" 200 -\n",
      "127.0.0.1 - - [02/Dec/2021 20:54:06] \"GET /getSimulationOutput HTTP/1.1\" 200 -\n",
      "127.0.0.1 - - [02/Dec/2021 20:54:08] \"GET /getSimulationOutput HTTP/1.1\" 200 -\n",
      "127.0.0.1 - - [02/Dec/2021 20:54:10] \"GET /getSimulationOutput HTTP/1.1\" 200 -\n",
      "127.0.0.1 - - [02/Dec/2021 20:54:12] \"GET /getSimulationOutput HTTP/1.1\" 200 -\n",
      "127.0.0.1 - - [02/Dec/2021 20:54:14] \"GET /getSimulationOutput HTTP/1.1\" 200 -\n",
      "127.0.0.1 - - [02/Dec/2021 20:54:16] \"GET /getSimulationOutput HTTP/1.1\" 200 -\n",
      "127.0.0.1 - - [02/Dec/2021 20:54:18] \"GET /getSimulationOutput HTTP/1.1\" 200 -\n",
      "127.0.0.1 - - [02/Dec/2021 20:54:20] \"GET /getSimulationOutput HTTP/1.1\" 200 -\n",
      "127.0.0.1 - - [02/Dec/2021 20:54:22] \"GET /getSimulationOutput HTTP/1.1\" 200 -\n",
      "127.0.0.1 - - [02/Dec/2021 20:54:24] \"GET /getSimulationOutput HTTP/1.1\" 200 -\n",
      "127.0.0.1 - - [02/Dec/2021 20:54:26] \"GET /getSimulationOutput HTTP/1.1\" 200 -\n",
      "127.0.0.1 - - [02/Dec/2021 20:54:28] \"GET /getSimulationOutput HTTP/1.1\" 200 -\n",
      "127.0.0.1 - - [02/Dec/2021 20:54:30] \"GET /getSimulationOutput HTTP/1.1\" 200 -\n",
      "127.0.0.1 - - [02/Dec/2021 20:54:32] \"GET /getSimulationOutput HTTP/1.1\" 200 -\n",
      "127.0.0.1 - - [02/Dec/2021 20:54:34] \"GET /getSimulationOutput HTTP/1.1\" 200 -\n",
      "127.0.0.1 - - [02/Dec/2021 20:54:36] \"GET /getSimulationOutput HTTP/1.1\" 200 -\n",
      "127.0.0.1 - - [02/Dec/2021 20:54:38] \"GET /getSimulationOutput HTTP/1.1\" 200 -\n",
      "127.0.0.1 - - [02/Dec/2021 20:54:40] \"GET /getSimulationOutput HTTP/1.1\" 200 -\n",
      "127.0.0.1 - - [02/Dec/2021 20:54:42] \"GET /getSimulationOutput HTTP/1.1\" 200 -\n",
      "127.0.0.1 - - [02/Dec/2021 20:54:44] \"GET /getSimulationOutput HTTP/1.1\" 200 -\n",
      "127.0.0.1 - - [02/Dec/2021 20:54:46] \"GET /getSimulationOutput HTTP/1.1\" 200 -\n",
      "127.0.0.1 - - [02/Dec/2021 20:54:48] \"GET /getSimulationOutput HTTP/1.1\" 200 -\n",
      "127.0.0.1 - - [02/Dec/2021 20:54:50] \"GET /getSimulationOutput HTTP/1.1\" 200 -\n",
      "127.0.0.1 - - [02/Dec/2021 20:54:52] \"GET /getSimulationOutput HTTP/1.1\" 200 -\n",
      "127.0.0.1 - - [02/Dec/2021 20:54:54] \"GET /getSimulationOutput HTTP/1.1\" 200 -\n",
      "127.0.0.1 - - [02/Dec/2021 20:54:56] \"GET /getSimulationOutput HTTP/1.1\" 200 -\n",
      "127.0.0.1 - - [02/Dec/2021 20:54:58] \"GET /getSimulationOutput HTTP/1.1\" 200 -\n",
      "127.0.0.1 - - [02/Dec/2021 20:55:00] \"GET /getSimulationOutput HTTP/1.1\" 200 -\n",
      "127.0.0.1 - - [02/Dec/2021 20:55:02] \"GET /getSimulationOutput HTTP/1.1\" 200 -\n",
      "127.0.0.1 - - [02/Dec/2021 20:55:04] \"GET /getSimulationOutput HTTP/1.1\" 200 -\n",
      "127.0.0.1 - - [02/Dec/2021 20:55:06] \"GET /getSimulationOutput HTTP/1.1\" 200 -\n",
      "127.0.0.1 - - [02/Dec/2021 20:55:08] \"GET /getSimulationOutput HTTP/1.1\" 200 -\n",
      "127.0.0.1 - - [02/Dec/2021 20:55:10] \"GET /getSimulationOutput HTTP/1.1\" 200 -\n",
      "127.0.0.1 - - [02/Dec/2021 20:55:12] \"GET /getSimulationOutput HTTP/1.1\" 200 -\n",
      "127.0.0.1 - - [02/Dec/2021 20:55:14] \"GET /getSimulationOutput HTTP/1.1\" 200 -\n",
      "127.0.0.1 - - [02/Dec/2021 20:55:16] \"GET /getSimulationOutput HTTP/1.1\" 200 -\n",
      "127.0.0.1 - - [02/Dec/2021 20:55:18] \"GET /getSimulationOutput HTTP/1.1\" 200 -\n",
      "127.0.0.1 - - [02/Dec/2021 20:55:20] \"GET /getSimulationOutput HTTP/1.1\" 200 -\n",
      "127.0.0.1 - - [02/Dec/2021 20:55:22] \"GET /getSimulationOutput HTTP/1.1\" 200 -\n",
      "127.0.0.1 - - [02/Dec/2021 20:55:24] \"GET /getSimulationOutput HTTP/1.1\" 200 -\n"
     ]
    },
    {
     "name": "stdout",
     "output_type": "stream",
     "text": [
      "127.0.0.1 - - [02/Dec/2021 20:55:26] \"GET /getSimulationOutput HTTP/1.1\" 200 -\n",
      "127.0.0.1 - - [02/Dec/2021 20:55:28] \"GET /getSimulationOutput HTTP/1.1\" 200 -\n",
      "127.0.0.1 - - [02/Dec/2021 20:55:30] \"GET /getSimulationOutput HTTP/1.1\" 200 -\n",
      "127.0.0.1 - - [02/Dec/2021 20:55:32] \"GET /getSimulationOutput HTTP/1.1\" 200 -\n",
      "127.0.0.1 - - [02/Dec/2021 20:55:34] \"GET /getSimulationOutput HTTP/1.1\" 200 -\n",
      "127.0.0.1 - - [02/Dec/2021 20:55:36] \"GET /getSimulationOutput HTTP/1.1\" 200 -\n",
      "127.0.0.1 - - [02/Dec/2021 20:55:36] \"POST /stopSimulation HTTP/1.1\" 200 -\n",
      "127.0.0.1 - - [02/Dec/2021 20:55:38] \"\u001b[33mGET /getSimulationOutput HTTP/1.1\u001b[0m\" 404 -\n"
     ]
    }
   ],
   "source": [
    "!openmm-setup\n",
    "#Click the square pause button to force quit after finished."
   ]
  },
  {
   "cell_type": "markdown",
   "id": "61e7f2e4",
   "metadata": {},
   "source": [
    "# Alternatively, you could save the simulation input files and run it on a cloud or HPC based OpenMM."
   ]
  },
  {
   "cell_type": "markdown",
   "id": "90eef1c1",
   "metadata": {},
   "source": [
    "# If all goes well, you should see something like below (CPU only)."
   ]
  },
  {
   "cell_type": "code",
   "execution_count": null,
   "id": "21473154",
   "metadata": {},
   "outputs": [],
   "source": [
    "Building system...\n",
    "Performing energy minimization...\n",
    "Equilibrating...\n",
    "Simulating...\n",
    "#\"Progress (%)\"\t\"Step\"\t\"Potential Energy (kJ/mole)\"\t\"Temperature (K)\"\t\"Speed (ns/day)\"\n",
    "0.1%\t1000\t-488259.139341292\t298.57624202824957\t0\n",
    "0.2%\t2000\t-492082.04384769656\t300.09275305741824\t16.6\n",
    "0.3%\t3000\t-494725.1462343714\t302.3090730320394\t16.6\n",
    "0.4%\t4000\t-496075.06792005355\t302.3939891905172\t16.4\n",
    "0.5%\t5000\t-498015.23323377833\t300.135566206444\t16.4\n",
    "0.6%\t6000\t-498488.50188332796\t298.5545999644654\t16.3\n",
    "0.7%\t7000\t-499572.9765659773\t300.7757759109986\t16.3\n",
    "0.8%\t8000\t-499030.79245316726\t297.2492234858693\t16.2\n",
    "0.9%\t9000\t-499823.2656625096\t300.60293949805\t16.2\n",
    "1.0%\t10000\t-500134.98822511156\t297.5748675220697\t16.2\n",
    "1.1%\t11000\t-499849.7045947542\t300.5532217535929\t16.2\n",
    "1.2%\t12000\t-500542.2799043103\t299.2530600741315\t16.2"
   ]
  }
 ],
 "metadata": {
  "kernelspec": {
   "display_name": "Python 3",
   "language": "python",
   "name": "python3"
  },
  "language_info": {
   "codemirror_mode": {
    "name": "ipython",
    "version": 3
   },
   "file_extension": ".py",
   "mimetype": "text/x-python",
   "name": "python",
   "nbconvert_exporter": "python",
   "pygments_lexer": "ipython3",
   "version": "3.8.8"
  }
 },
 "nbformat": 4,
 "nbformat_minor": 5
}
